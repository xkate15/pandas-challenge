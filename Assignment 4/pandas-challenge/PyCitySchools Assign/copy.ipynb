{
 "cells": [
  {
   "cell_type": "code",
   "execution_count": 18,
   "id": "f517c994",
   "metadata": {},
   "outputs": [],
   "source": [
    "import pandas as pd\n",
    "import numpy as np"
   ]
  },
  {
   "cell_type": "code",
   "execution_count": 19,
   "id": "bb38e9cf",
   "metadata": {},
   "outputs": [],
   "source": [
    "school_data_to_load = \"C:/UTDataCourse/Assignment 4/Instructions/PyCitySchools/Resources/schools_complete.csv\"\n",
    "student_data_to_load = \"C:/UTDataCourse/Assignment 4/Instructions/PyCitySchools/Resources/students_complete.csv\""
   ]
  },
  {
   "cell_type": "code",
   "execution_count": 20,
   "id": "e5b62eef",
   "metadata": {},
   "outputs": [],
   "source": [
    "school_data = pd.read_csv(school_data_to_load)\n",
    "student_data = pd.read_csv(student_data_to_load)"
   ]
  },
  {
   "cell_type": "code",
   "execution_count": 21,
   "id": "cf3b19a9",
   "metadata": {},
   "outputs": [],
   "source": [
    "school_data_complete = pd.merge(student_data, school_data, how=\"left\", on=[\"school_name\", \"school_name\"])"
   ]
  },
  {
   "cell_type": "code",
   "execution_count": 22,
   "id": "c9d0180a",
   "metadata": {},
   "outputs": [
    {
     "data": {
      "text/html": [
       "<div>\n",
       "<style scoped>\n",
       "    .dataframe tbody tr th:only-of-type {\n",
       "        vertical-align: middle;\n",
       "    }\n",
       "\n",
       "    .dataframe tbody tr th {\n",
       "        vertical-align: top;\n",
       "    }\n",
       "\n",
       "    .dataframe thead th {\n",
       "        text-align: right;\n",
       "    }\n",
       "</style>\n",
       "<table border=\"1\" class=\"dataframe\">\n",
       "  <thead>\n",
       "    <tr style=\"text-align: right;\">\n",
       "      <th></th>\n",
       "      <th>Student ID</th>\n",
       "      <th>student_name</th>\n",
       "      <th>gender</th>\n",
       "      <th>grade</th>\n",
       "      <th>school_name</th>\n",
       "      <th>reading_score</th>\n",
       "      <th>math_score</th>\n",
       "      <th>School ID</th>\n",
       "      <th>type</th>\n",
       "      <th>size</th>\n",
       "      <th>budget</th>\n",
       "    </tr>\n",
       "  </thead>\n",
       "  <tbody>\n",
       "    <tr>\n",
       "      <th>0</th>\n",
       "      <td>0</td>\n",
       "      <td>Paul Bradley</td>\n",
       "      <td>M</td>\n",
       "      <td>9th</td>\n",
       "      <td>Huang High School</td>\n",
       "      <td>66</td>\n",
       "      <td>79</td>\n",
       "      <td>0</td>\n",
       "      <td>District</td>\n",
       "      <td>2917</td>\n",
       "      <td>1910635</td>\n",
       "    </tr>\n",
       "    <tr>\n",
       "      <th>1</th>\n",
       "      <td>1</td>\n",
       "      <td>Victor Smith</td>\n",
       "      <td>M</td>\n",
       "      <td>12th</td>\n",
       "      <td>Huang High School</td>\n",
       "      <td>94</td>\n",
       "      <td>61</td>\n",
       "      <td>0</td>\n",
       "      <td>District</td>\n",
       "      <td>2917</td>\n",
       "      <td>1910635</td>\n",
       "    </tr>\n",
       "    <tr>\n",
       "      <th>2</th>\n",
       "      <td>2</td>\n",
       "      <td>Kevin Rodriguez</td>\n",
       "      <td>M</td>\n",
       "      <td>12th</td>\n",
       "      <td>Huang High School</td>\n",
       "      <td>90</td>\n",
       "      <td>60</td>\n",
       "      <td>0</td>\n",
       "      <td>District</td>\n",
       "      <td>2917</td>\n",
       "      <td>1910635</td>\n",
       "    </tr>\n",
       "    <tr>\n",
       "      <th>3</th>\n",
       "      <td>3</td>\n",
       "      <td>Dr. Richard Scott</td>\n",
       "      <td>M</td>\n",
       "      <td>12th</td>\n",
       "      <td>Huang High School</td>\n",
       "      <td>67</td>\n",
       "      <td>58</td>\n",
       "      <td>0</td>\n",
       "      <td>District</td>\n",
       "      <td>2917</td>\n",
       "      <td>1910635</td>\n",
       "    </tr>\n",
       "    <tr>\n",
       "      <th>4</th>\n",
       "      <td>4</td>\n",
       "      <td>Bonnie Ray</td>\n",
       "      <td>F</td>\n",
       "      <td>9th</td>\n",
       "      <td>Huang High School</td>\n",
       "      <td>97</td>\n",
       "      <td>84</td>\n",
       "      <td>0</td>\n",
       "      <td>District</td>\n",
       "      <td>2917</td>\n",
       "      <td>1910635</td>\n",
       "    </tr>\n",
       "    <tr>\n",
       "      <th>...</th>\n",
       "      <td>...</td>\n",
       "      <td>...</td>\n",
       "      <td>...</td>\n",
       "      <td>...</td>\n",
       "      <td>...</td>\n",
       "      <td>...</td>\n",
       "      <td>...</td>\n",
       "      <td>...</td>\n",
       "      <td>...</td>\n",
       "      <td>...</td>\n",
       "      <td>...</td>\n",
       "    </tr>\n",
       "    <tr>\n",
       "      <th>39165</th>\n",
       "      <td>39165</td>\n",
       "      <td>Donna Howard</td>\n",
       "      <td>F</td>\n",
       "      <td>12th</td>\n",
       "      <td>Thomas High School</td>\n",
       "      <td>99</td>\n",
       "      <td>90</td>\n",
       "      <td>14</td>\n",
       "      <td>Charter</td>\n",
       "      <td>1635</td>\n",
       "      <td>1043130</td>\n",
       "    </tr>\n",
       "    <tr>\n",
       "      <th>39166</th>\n",
       "      <td>39166</td>\n",
       "      <td>Dawn Bell</td>\n",
       "      <td>F</td>\n",
       "      <td>10th</td>\n",
       "      <td>Thomas High School</td>\n",
       "      <td>95</td>\n",
       "      <td>70</td>\n",
       "      <td>14</td>\n",
       "      <td>Charter</td>\n",
       "      <td>1635</td>\n",
       "      <td>1043130</td>\n",
       "    </tr>\n",
       "    <tr>\n",
       "      <th>39167</th>\n",
       "      <td>39167</td>\n",
       "      <td>Rebecca Tanner</td>\n",
       "      <td>F</td>\n",
       "      <td>9th</td>\n",
       "      <td>Thomas High School</td>\n",
       "      <td>73</td>\n",
       "      <td>84</td>\n",
       "      <td>14</td>\n",
       "      <td>Charter</td>\n",
       "      <td>1635</td>\n",
       "      <td>1043130</td>\n",
       "    </tr>\n",
       "    <tr>\n",
       "      <th>39168</th>\n",
       "      <td>39168</td>\n",
       "      <td>Desiree Kidd</td>\n",
       "      <td>F</td>\n",
       "      <td>10th</td>\n",
       "      <td>Thomas High School</td>\n",
       "      <td>99</td>\n",
       "      <td>90</td>\n",
       "      <td>14</td>\n",
       "      <td>Charter</td>\n",
       "      <td>1635</td>\n",
       "      <td>1043130</td>\n",
       "    </tr>\n",
       "    <tr>\n",
       "      <th>39169</th>\n",
       "      <td>39169</td>\n",
       "      <td>Carolyn Jackson</td>\n",
       "      <td>F</td>\n",
       "      <td>11th</td>\n",
       "      <td>Thomas High School</td>\n",
       "      <td>95</td>\n",
       "      <td>75</td>\n",
       "      <td>14</td>\n",
       "      <td>Charter</td>\n",
       "      <td>1635</td>\n",
       "      <td>1043130</td>\n",
       "    </tr>\n",
       "  </tbody>\n",
       "</table>\n",
       "<p>39170 rows × 11 columns</p>\n",
       "</div>"
      ],
      "text/plain": [
       "       Student ID       student_name gender grade         school_name  \\\n",
       "0               0       Paul Bradley      M   9th   Huang High School   \n",
       "1               1       Victor Smith      M  12th   Huang High School   \n",
       "2               2    Kevin Rodriguez      M  12th   Huang High School   \n",
       "3               3  Dr. Richard Scott      M  12th   Huang High School   \n",
       "4               4         Bonnie Ray      F   9th   Huang High School   \n",
       "...           ...                ...    ...   ...                 ...   \n",
       "39165       39165       Donna Howard      F  12th  Thomas High School   \n",
       "39166       39166          Dawn Bell      F  10th  Thomas High School   \n",
       "39167       39167     Rebecca Tanner      F   9th  Thomas High School   \n",
       "39168       39168       Desiree Kidd      F  10th  Thomas High School   \n",
       "39169       39169    Carolyn Jackson      F  11th  Thomas High School   \n",
       "\n",
       "       reading_score  math_score  School ID      type  size   budget  \n",
       "0                 66          79          0  District  2917  1910635  \n",
       "1                 94          61          0  District  2917  1910635  \n",
       "2                 90          60          0  District  2917  1910635  \n",
       "3                 67          58          0  District  2917  1910635  \n",
       "4                 97          84          0  District  2917  1910635  \n",
       "...              ...         ...        ...       ...   ...      ...  \n",
       "39165             99          90         14   Charter  1635  1043130  \n",
       "39166             95          70         14   Charter  1635  1043130  \n",
       "39167             73          84         14   Charter  1635  1043130  \n",
       "39168             99          90         14   Charter  1635  1043130  \n",
       "39169             95          75         14   Charter  1635  1043130  \n",
       "\n",
       "[39170 rows x 11 columns]"
      ]
     },
     "execution_count": 22,
     "metadata": {},
     "output_type": "execute_result"
    }
   ],
   "source": [
    "school_data_completed_df = school_data_complete\n",
    "school_data_completed_df"
   ]
  },
  {
   "cell_type": "code",
   "execution_count": 23,
   "id": "dc6de03c",
   "metadata": {},
   "outputs": [],
   "source": [
    "total_school = len(school_data_completed_df[\"school_name\"].unique())\n",
    "total_student = len(school_data_completed_df[\"student_name\"].sum())\n",
    "total_budget = (school_data_completed_df[\"budget\"].sum())\n",
    "avg_math_score = (school_data_completed_df[\"math_score\"].mean())\n",
    "avg_reading_score = (school_data_completed_df[\"reading_score\"].mean())\n",
    "passing_math = (school_data_complete[school_data_complete['math_score']>=70]['student_name'].count()/total_student*100)\n",
    "passing_reading = (school_data_complete[school_data_complete['reading_score']>=70]['student_name'].count()/total_student*100)\n",
    "overall_passing_score = (avg_math_score + avg_reading_score)/2"
   ]
  },
  {
   "cell_type": "code",
   "execution_count": 34,
   "id": "0c385c31",
   "metadata": {},
   "outputs": [
    {
     "ename": "TypeError",
     "evalue": "'dict' object is not callable",
     "output_type": "error",
     "traceback": [
      "\u001b[1;31m---------------------------------------------------------------------------\u001b[0m",
      "\u001b[1;31mTypeError\u001b[0m                                 Traceback (most recent call last)",
      "\u001b[1;32m~\\AppData\\Local\\Temp\\ipykernel_13284\\3637534622.py\u001b[0m in \u001b[0;36m<module>\u001b[1;34m\u001b[0m\n\u001b[1;32m----> 1\u001b[1;33m summary_df = pd.DataFrame({\n\u001b[0m\u001b[0;32m      2\u001b[0m     \u001b[1;34m\"Total School\"\u001b[0m\u001b[1;33m:\u001b[0m\u001b[1;33m[\u001b[0m\u001b[0mtotal_school\u001b[0m\u001b[1;33m]\u001b[0m\u001b[1;33m,\u001b[0m\u001b[1;33m\u001b[0m\u001b[1;33m\u001b[0m\u001b[0m\n\u001b[0;32m      3\u001b[0m     \u001b[1;34m\"Total Student\"\u001b[0m\u001b[1;33m:\u001b[0m \u001b[0mtotal_student\u001b[0m\u001b[1;33m,\u001b[0m\u001b[1;33m\u001b[0m\u001b[1;33m\u001b[0m\u001b[0m\n\u001b[0;32m      4\u001b[0m     \u001b[1;34m\"Total Budget\"\u001b[0m\u001b[1;33m:\u001b[0m \u001b[0mtotal_budget\u001b[0m\u001b[1;33m,\u001b[0m\u001b[1;33m\u001b[0m\u001b[1;33m\u001b[0m\u001b[0m\n\u001b[0;32m      5\u001b[0m     \u001b[1;34m\"Average Math Score\"\u001b[0m\u001b[1;33m:\u001b[0m \u001b[0mavg_math_score\u001b[0m\u001b[1;33m,\u001b[0m\u001b[1;33m\u001b[0m\u001b[1;33m\u001b[0m\u001b[0m\n",
      "\u001b[1;31mTypeError\u001b[0m: 'dict' object is not callable"
     ]
    }
   ],
   "source": [
    "summary_df = pd.DataFrame({\n",
    "    \"Total School\":[total_school],\n",
    "    \"Total Student\": total_student,\n",
    "    \"Total Budget\": total_budget,\n",
    "    \"Average Math Score\": avg_math_score,\n",
    "    \"% Passing Math\": avg_math_score,\n",
    "    \"% Passing Reading\": avg_reading_score,\n",
    "    \"% Overall Passing\": [overall_passing_score]\n",
    "})\n",
    "\n",
    "summary_df"
   ]
  },
  {
   "cell_type": "code",
   "execution_count": 16,
   "id": "710b93dc",
   "metadata": {},
   "outputs": [],
   "source": [
    "grouped_school = school_data_complete.groupby(['school_name'])\n",
    "school_type = grouped_school['type'].first()\n",
    "total_student = grouped_school.size()\n",
    "total_budget = grouped_school['budget'].first()\n",
    "budget_per_student = total_budget/total_student\n",
    "average_math_score = grouped_school['math_score'].mean()\n",
    "average_reading_score = grouped_school['reading_score'].mean()\n",
    "grouped_passing_math = school_data_complete[school_data_complete['math_score']>=70].groupby(['school_name']).size()\n",
    "percent_passing_math = (grouped_passing_math/total_student)*100\n",
    "\n",
    "grouped_passing_reading = school_data_complete[school_data_complete['reading_score']>=70].groupby(['school_name']).size()\n",
    "percent_passing_reading = (grouped_passing_reading/total_student)*100\n",
    "\n",
    "percent_overall_passing = (percent_passing_math + percent_passing_reading)/2"
   ]
  },
  {
   "cell_type": "code",
   "execution_count": 17,
   "id": "e5712a25",
   "metadata": {},
   "outputs": [
    {
     "data": {
      "text/plain": [
       "{'School Type': school_name\n",
       " Bailey High School       District\n",
       " Cabrera High School       Charter\n",
       " Figueroa High School     District\n",
       " Ford High School         District\n",
       " Griffin High School       Charter\n",
       " Hernandez High School    District\n",
       " Holden High School        Charter\n",
       " Huang High School        District\n",
       " Johnson High School      District\n",
       " Pena High School          Charter\n",
       " Rodriguez High School    District\n",
       " Shelton High School       Charter\n",
       " Thomas High School        Charter\n",
       " Wilson High School        Charter\n",
       " Wright High School        Charter\n",
       " Name: type, dtype: object,\n",
       " 'Total Students': school_name\n",
       " Bailey High School       4976\n",
       " Cabrera High School      1858\n",
       " Figueroa High School     2949\n",
       " Ford High School         2739\n",
       " Griffin High School      1468\n",
       " Hernandez High School    4635\n",
       " Holden High School        427\n",
       " Huang High School        2917\n",
       " Johnson High School      4761\n",
       " Pena High School          962\n",
       " Rodriguez High School    3999\n",
       " Shelton High School      1761\n",
       " Thomas High School       1635\n",
       " Wilson High School       2283\n",
       " Wright High School       1800\n",
       " dtype: int64,\n",
       " 'Total School Budget': school_name\n",
       " Bailey High School       3124928\n",
       " Cabrera High School      1081356\n",
       " Figueroa High School     1884411\n",
       " Ford High School         1763916\n",
       " Griffin High School       917500\n",
       " Hernandez High School    3022020\n",
       " Holden High School        248087\n",
       " Huang High School        1910635\n",
       " Johnson High School      3094650\n",
       " Pena High School          585858\n",
       " Rodriguez High School    2547363\n",
       " Shelton High School      1056600\n",
       " Thomas High School       1043130\n",
       " Wilson High School       1319574\n",
       " Wright High School       1049400\n",
       " Name: budget, dtype: int64,\n",
       " 'Per Student Budget': school_name\n",
       " Bailey High School       628.0\n",
       " Cabrera High School      582.0\n",
       " Figueroa High School     639.0\n",
       " Ford High School         644.0\n",
       " Griffin High School      625.0\n",
       " Hernandez High School    652.0\n",
       " Holden High School       581.0\n",
       " Huang High School        655.0\n",
       " Johnson High School      650.0\n",
       " Pena High School         609.0\n",
       " Rodriguez High School    637.0\n",
       " Shelton High School      600.0\n",
       " Thomas High School       638.0\n",
       " Wilson High School       578.0\n",
       " Wright High School       583.0\n",
       " dtype: float64,\n",
       " 'Average Math Score': school_name\n",
       " Bailey High School       77.048432\n",
       " Cabrera High School      83.061895\n",
       " Figueroa High School     76.711767\n",
       " Ford High School         77.102592\n",
       " Griffin High School      83.351499\n",
       " Hernandez High School    77.289752\n",
       " Holden High School       83.803279\n",
       " Huang High School        76.629414\n",
       " Johnson High School      77.072464\n",
       " Pena High School         83.839917\n",
       " Rodriguez High School    76.842711\n",
       " Shelton High School      83.359455\n",
       " Thomas High School       83.418349\n",
       " Wilson High School       83.274201\n",
       " Wright High School       83.682222\n",
       " Name: math_score, dtype: float64,\n",
       " 'Average Reading Score': school_name\n",
       " Bailey High School       81.033963\n",
       " Cabrera High School      83.975780\n",
       " Figueroa High School     81.158020\n",
       " Ford High School         80.746258\n",
       " Griffin High School      83.816757\n",
       " Hernandez High School    80.934412\n",
       " Holden High School       83.814988\n",
       " Huang High School        81.182722\n",
       " Johnson High School      80.966394\n",
       " Pena High School         84.044699\n",
       " Rodriguez High School    80.744686\n",
       " Shelton High School      83.725724\n",
       " Thomas High School       83.848930\n",
       " Wilson High School       83.989488\n",
       " Wright High School       83.955000\n",
       " Name: reading_score, dtype: float64,\n",
       " '% Passing Math': school_name\n",
       " Bailey High School       66.680064\n",
       " Cabrera High School      94.133477\n",
       " Figueroa High School     65.988471\n",
       " Ford High School         68.309602\n",
       " Griffin High School      93.392371\n",
       " Hernandez High School    66.752967\n",
       " Holden High School       92.505855\n",
       " Huang High School        65.683922\n",
       " Johnson High School      66.057551\n",
       " Pena High School         94.594595\n",
       " Rodriguez High School    66.366592\n",
       " Shelton High School      93.867121\n",
       " Thomas High School       93.272171\n",
       " Wilson High School       93.867718\n",
       " Wright High School       93.333333\n",
       " dtype: float64,\n",
       " '% Passing Reading': school_name\n",
       " Bailey High School       81.933280\n",
       " Cabrera High School      97.039828\n",
       " Figueroa High School     80.739234\n",
       " Ford High School         79.299014\n",
       " Griffin High School      97.138965\n",
       " Hernandez High School    80.862999\n",
       " Holden High School       96.252927\n",
       " Huang High School        81.316421\n",
       " Johnson High School      81.222432\n",
       " Pena High School         95.945946\n",
       " Rodriguez High School    80.220055\n",
       " Shelton High School      95.854628\n",
       " Thomas High School       97.308869\n",
       " Wilson High School       96.539641\n",
       " Wright High School       96.611111\n",
       " dtype: float64,\n",
       " '% Overall Passing Rate': school_name\n",
       " Bailey High School       74.306672\n",
       " Cabrera High School      95.586652\n",
       " Figueroa High School     73.363852\n",
       " Ford High School         73.804308\n",
       " Griffin High School      95.265668\n",
       " Hernandez High School    73.807983\n",
       " Holden High School       94.379391\n",
       " Huang High School        73.500171\n",
       " Johnson High School      73.639992\n",
       " Pena High School         95.270270\n",
       " Rodriguez High School    73.293323\n",
       " Shelton High School      94.860875\n",
       " Thomas High School       95.290520\n",
       " Wilson High School       95.203679\n",
       " Wright High School       94.972222\n",
       " dtype: float64}"
      ]
     },
     "execution_count": 17,
     "metadata": {},
     "output_type": "execute_result"
    }
   ],
   "source": [
    "# Create a dataframe to hold the above results\n",
    "school_summary_df = pd.DataFrame=({\n",
    "                                \"School Type\": school_type,\n",
    "                                'Total Students':total_student,\n",
    "                                'Total School Budget': total_budget,\n",
    "                                'Per Student Budget': budget_per_student,\n",
    "                                'Average Math Score': average_math_score,\n",
    "                                'Average Reading Score': average_reading_score,\n",
    "                                '% Passing Math': percent_passing_math,\n",
    "                                '% Passing Reading': percent_passing_reading,\n",
    "                                '% Overall Passing Rate': percent_overall_passing})\n",
    "    \n",
    "school_summary_df"
   ]
  },
  {
   "cell_type": "markdown",
   "id": "e976c2dc",
   "metadata": {},
   "source": [
    "## Hightest-Performing School "
   ]
  },
  {
   "cell_type": "code",
   "execution_count": 35,
   "id": "2ee81f4d",
   "metadata": {
    "scrolled": true
   },
   "outputs": [
    {
     "ename": "NameError",
     "evalue": "name 'displayed_school_summary' is not defined",
     "output_type": "error",
     "traceback": [
      "\u001b[1;31m---------------------------------------------------------------------------\u001b[0m",
      "\u001b[1;31mNameError\u001b[0m                                 Traceback (most recent call last)",
      "\u001b[1;32m~\\AppData\\Local\\Temp\\ipykernel_13284\\2632215391.py\u001b[0m in \u001b[0;36m<module>\u001b[1;34m\u001b[0m\n\u001b[1;32m----> 1\u001b[1;33m \u001b[0mtop_performing_schools\u001b[0m \u001b[1;33m=\u001b[0m \u001b[0mdisplayed_school_summary\u001b[0m\u001b[1;33m.\u001b[0m\u001b[0msort_values\u001b[0m\u001b[1;33m(\u001b[0m\u001b[0mby\u001b[0m\u001b[1;33m=\u001b[0m\u001b[1;34m'% Overall Passing Rate'\u001b[0m\u001b[1;33m,\u001b[0m\u001b[0mascending\u001b[0m\u001b[1;33m=\u001b[0m\u001b[1;32mFalse\u001b[0m\u001b[1;33m)\u001b[0m\u001b[1;33m\u001b[0m\u001b[1;33m\u001b[0m\u001b[0m\n\u001b[0m\u001b[0;32m      2\u001b[0m \u001b[0mtop_performing_schools\u001b[0m\u001b[1;33m.\u001b[0m\u001b[0mhead\u001b[0m\u001b[1;33m(\u001b[0m\u001b[1;33m)\u001b[0m\u001b[1;33m\u001b[0m\u001b[1;33m\u001b[0m\u001b[0m\n",
      "\u001b[1;31mNameError\u001b[0m: name 'displayed_school_summary' is not defined"
     ]
    }
   ],
   "source": [
    "top_performing_schools = displayed_school_summary.sort_values(by='% Overall Passing Rate',ascending=False)\n",
    "top_performing_schools.head()"
   ]
  },
  {
   "cell_type": "markdown",
   "id": "ff7ea281",
   "metadata": {},
   "source": [
    "## Lowest-Performing Schools"
   ]
  },
  {
   "cell_type": "code",
   "execution_count": 36,
   "id": "683bda3b",
   "metadata": {},
   "outputs": [
    {
     "ename": "NameError",
     "evalue": "name 'displayed_school_summary' is not defined",
     "output_type": "error",
     "traceback": [
      "\u001b[1;31m---------------------------------------------------------------------------\u001b[0m",
      "\u001b[1;31mNameError\u001b[0m                                 Traceback (most recent call last)",
      "\u001b[1;32m~\\AppData\\Local\\Temp\\ipykernel_13284\\1842110144.py\u001b[0m in \u001b[0;36m<module>\u001b[1;34m\u001b[0m\n\u001b[1;32m----> 1\u001b[1;33m \u001b[0mworst_performing_schools\u001b[0m \u001b[1;33m=\u001b[0m \u001b[0mdisplayed_school_summary\u001b[0m\u001b[1;33m.\u001b[0m\u001b[0msort_values\u001b[0m\u001b[1;33m(\u001b[0m\u001b[0mby\u001b[0m\u001b[1;33m=\u001b[0m\u001b[1;34m'% Overall Passing Rate'\u001b[0m\u001b[1;33m)\u001b[0m\u001b[1;33m\u001b[0m\u001b[1;33m\u001b[0m\u001b[0m\n\u001b[0m\u001b[0;32m      2\u001b[0m \u001b[0mworst_performing_schools\u001b[0m\u001b[1;33m.\u001b[0m\u001b[0mhead\u001b[0m\u001b[1;33m(\u001b[0m\u001b[1;33m)\u001b[0m\u001b[1;33m\u001b[0m\u001b[1;33m\u001b[0m\u001b[0m\n",
      "\u001b[1;31mNameError\u001b[0m: name 'displayed_school_summary' is not defined"
     ]
    }
   ],
   "source": [
    "worst_performing_schools = displayed_school_summary.sort_values(by='% Overall Passing Rate')\n",
    "worst_performing_schools.head()"
   ]
  },
  {
   "cell_type": "markdown",
   "id": "cdde28e4",
   "metadata": {},
   "source": [
    "## Math Scores by Grade"
   ]
  },
  {
   "cell_type": "code",
   "execution_count": 37,
   "id": "41b44afe",
   "metadata": {},
   "outputs": [
    {
     "ename": "TypeError",
     "evalue": "'dict' object is not callable",
     "output_type": "error",
     "traceback": [
      "\u001b[1;31m---------------------------------------------------------------------------\u001b[0m",
      "\u001b[1;31mTypeError\u001b[0m                                 Traceback (most recent call last)",
      "\u001b[1;32m~\\AppData\\Local\\Temp\\ipykernel_13284\\1435400931.py\u001b[0m in \u001b[0;36m<module>\u001b[1;34m\u001b[0m\n\u001b[0;32m      8\u001b[0m \u001b[1;33m\u001b[0m\u001b[0m\n\u001b[0;32m      9\u001b[0m \u001b[1;33m\u001b[0m\u001b[0m\n\u001b[1;32m---> 10\u001b[1;33m grade_math_score_df= pd.DataFrame({\n\u001b[0m\u001b[0;32m     11\u001b[0m                                   \u001b[1;34m\"9th\"\u001b[0m\u001b[1;33m:\u001b[0m\u001b[0mschool_avg_math_9th\u001b[0m\u001b[1;33m,\u001b[0m\u001b[1;33m\u001b[0m\u001b[1;33m\u001b[0m\u001b[0m\n\u001b[0;32m     12\u001b[0m                                   \u001b[1;34m\"10th\"\u001b[0m\u001b[1;33m:\u001b[0m\u001b[0mschool_avg_math_10th\u001b[0m\u001b[1;33m,\u001b[0m\u001b[1;33m\u001b[0m\u001b[1;33m\u001b[0m\u001b[0m\n",
      "\u001b[1;31mTypeError\u001b[0m: 'dict' object is not callable"
     ]
    }
   ],
   "source": [
    "school_avg_math_9th = school_data_complete[school_data_complete['grade']=='9th'].groupby('school_name')['math_score'].mean()\n",
    "\n",
    "school_avg_math_10th = school_data_complete[school_data_complete['grade']=='10th'].groupby('school_name')['math_score'].mean()\n",
    "\n",
    "school_avg_math_11th = school_data_complete[school_data_complete['grade']=='11th'].groupby('school_name')['math_score'].mean()\n",
    "\n",
    "school_avg_math_12th = school_data_complete[school_data_complete['grade']=='12th'].groupby('school_name')['math_score'].mean()\n",
    "\n",
    "\n",
    "grade_math_score_df= pd.DataFrame({\n",
    "                                  \"9th\":school_avg_math_9th,\n",
    "                                  \"10th\":school_avg_math_10th,\n",
    "                                  \"11th\":school_avg_math_11th,\n",
    "                                  \"12th\":school_avg_math_12th})\n",
    "grade_math_score_df.head(20)"
   ]
  },
  {
   "cell_type": "code",
   "execution_count": 38,
   "id": "9aeac33b",
   "metadata": {},
   "outputs": [
    {
     "ename": "TypeError",
     "evalue": "'dict' object is not callable",
     "output_type": "error",
     "traceback": [
      "\u001b[1;31m---------------------------------------------------------------------------\u001b[0m",
      "\u001b[1;31mTypeError\u001b[0m                                 Traceback (most recent call last)",
      "\u001b[1;32m~\\AppData\\Local\\Temp\\ipykernel_13284\\1624988904.py\u001b[0m in \u001b[0;36m<module>\u001b[1;34m\u001b[0m\n\u001b[0;32m     16\u001b[0m     }\n\u001b[0;32m     17\u001b[0m \u001b[1;33m\u001b[0m\u001b[0m\n\u001b[1;32m---> 18\u001b[1;33m \u001b[0mreading_score_by_grade\u001b[0m \u001b[1;33m=\u001b[0m \u001b[0mpd\u001b[0m\u001b[1;33m.\u001b[0m\u001b[0mDataFrame\u001b[0m\u001b[1;33m(\u001b[0m\u001b[0mgrade_reading_score\u001b[0m\u001b[1;33m)\u001b[0m\u001b[1;33m\u001b[0m\u001b[1;33m\u001b[0m\u001b[0m\n\u001b[0m\u001b[0;32m     19\u001b[0m \u001b[0mreading_score_by_grade\u001b[0m\u001b[1;33m.\u001b[0m\u001b[0mindex\u001b[0m\u001b[1;33m.\u001b[0m\u001b[0mname\u001b[0m \u001b[1;33m=\u001b[0m \u001b[1;32mNone\u001b[0m\u001b[1;33m\u001b[0m\u001b[1;33m\u001b[0m\u001b[0m\n\u001b[0;32m     20\u001b[0m \u001b[0mreading_score_by_grade\u001b[0m\u001b[1;33m.\u001b[0m\u001b[0mhead\u001b[0m\u001b[1;33m(\u001b[0m\u001b[1;36m20\u001b[0m\u001b[1;33m)\u001b[0m\u001b[1;33m\u001b[0m\u001b[1;33m\u001b[0m\u001b[0m\n",
      "\u001b[1;31mTypeError\u001b[0m: 'dict' object is not callable"
     ]
    }
   ],
   "source": [
    "# Calculate the average reading score for students of 9th grade at each school\n",
    "avg_reading_9th = school_data_complete[school_data_complete['grade']=='9th'].groupby('school_name')['reading_score'].mean()\n",
    "# Calculate the average reading score for students of 10th grade at each school\n",
    "avg_reading_10th = school_data_complete[school_data_complete['grade']=='10th'].groupby('school_name')['reading_score'].mean()\n",
    "# Calculate the average reading score for students of 11th grade at each school\n",
    "avg_reading_11th = school_data_complete[school_data_complete['grade']=='11th'].groupby('school_name')['reading_score'].mean()\n",
    "# Calculate the average reading score for students of 12th grade at each school\n",
    "avg_reading_12th = school_data_complete[school_data_complete['grade']=='12th'].groupby('school_name')['reading_score'].mean()\n",
    "\n",
    "# Create a dataframe to hold the above results\n",
    "grade_reading_score={\n",
    "    '9th':avg_reading_9th,\n",
    "    '10th':avg_reading_10th,\n",
    "    '11th':avg_reading_11th,\n",
    "    '12th':avg_reading_12th,\n",
    "    }\n",
    "\n",
    "reading_score_by_grade = pd.DataFrame(grade_reading_score)\n",
    "reading_score_by_grade.index.name = None\n",
    "reading_score_by_grade.head(20)"
   ]
  },
  {
   "cell_type": "code",
   "execution_count": 39,
   "id": "84b42e8d",
   "metadata": {},
   "outputs": [],
   "source": [
    "spending_bins = [0, 585, 615, 645, 675]\n",
    "group_names = [\"<$585\", \"$585-615\", \"$615-645\", \"$645-675\"]"
   ]
  },
  {
   "cell_type": "code",
   "execution_count": 40,
   "id": "dbab30f7",
   "metadata": {},
   "outputs": [
    {
     "ename": "NameError",
     "evalue": "name 'school_summary' is not defined",
     "output_type": "error",
     "traceback": [
      "\u001b[1;31m---------------------------------------------------------------------------\u001b[0m",
      "\u001b[1;31mNameError\u001b[0m                                 Traceback (most recent call last)",
      "\u001b[1;32m~\\AppData\\Local\\Temp\\ipykernel_13284\\3517021638.py\u001b[0m in \u001b[0;36m<module>\u001b[1;34m\u001b[0m\n\u001b[1;32m----> 1\u001b[1;33m scores_spending = school_summary.loc[:,['Average Math Score',\n\u001b[0m\u001b[0;32m      2\u001b[0m                                        \u001b[1;34m'Average Reading Score'\u001b[0m\u001b[1;33m,\u001b[0m\u001b[1;33m\u001b[0m\u001b[1;33m\u001b[0m\u001b[0m\n\u001b[0;32m      3\u001b[0m                                        \u001b[1;34m'% Passing Math'\u001b[0m\u001b[1;33m,\u001b[0m\u001b[1;33m\u001b[0m\u001b[1;33m\u001b[0m\u001b[0m\n\u001b[0;32m      4\u001b[0m                                        \u001b[1;34m'% Passing Reading'\u001b[0m\u001b[1;33m,\u001b[0m\u001b[1;33m\u001b[0m\u001b[1;33m\u001b[0m\u001b[0m\n\u001b[0;32m      5\u001b[0m                                        '% Overall Passing Rate',]]\n",
      "\u001b[1;31mNameError\u001b[0m: name 'school_summary' is not defined"
     ]
    }
   ],
   "source": [
    "scores_spending = school_summary.loc[:,['Average Math Score',\n",
    "                                       'Average Reading Score',\n",
    "                                       '% Passing Math',\n",
    "                                       '% Passing Reading',\n",
    "                                       '% Overall Passing Rate',]]\n",
    "scores_spending['Spending Ranges (Per Student)']= pd.cut(school_summary['Per Student Budget'],spending_bins,labels=group_names)\n",
    "# Create a group based off of the bins\n",
    "scores_spending = scores_spending.groupby('Spending Ranges (Per Student)').mean()\n",
    "scores_spending.head()"
   ]
  },
  {
   "cell_type": "code",
   "execution_count": 41,
   "id": "b7be2666",
   "metadata": {},
   "outputs": [],
   "source": [
    "size_bins = [0, 1000, 2000, 5000]\n",
    "group_names = [\"Small (<1000)\", \"Medium (1000-2000)\", \"Large (2000-5000)\"]"
   ]
  },
  {
   "cell_type": "code",
   "execution_count": 42,
   "id": "d09fbbec",
   "metadata": {},
   "outputs": [
    {
     "ename": "NameError",
     "evalue": "name 'school_summary' is not defined",
     "output_type": "error",
     "traceback": [
      "\u001b[1;31m---------------------------------------------------------------------------\u001b[0m",
      "\u001b[1;31mNameError\u001b[0m                                 Traceback (most recent call last)",
      "\u001b[1;32m~\\AppData\\Local\\Temp\\ipykernel_13284\\207489882.py\u001b[0m in \u001b[0;36m<module>\u001b[1;34m\u001b[0m\n\u001b[1;32m----> 1\u001b[1;33m scores_size = school_summary.loc[:,['Average Math Score',\n\u001b[0m\u001b[0;32m      2\u001b[0m                                   \u001b[1;34m'Average Reading Score'\u001b[0m\u001b[1;33m,\u001b[0m\u001b[1;33m\u001b[0m\u001b[1;33m\u001b[0m\u001b[0m\n\u001b[0;32m      3\u001b[0m                                   \u001b[1;34m'% Passing Math'\u001b[0m\u001b[1;33m,\u001b[0m\u001b[1;33m\u001b[0m\u001b[1;33m\u001b[0m\u001b[0m\n\u001b[0;32m      4\u001b[0m                                   \u001b[1;34m'% Passing Reading'\u001b[0m\u001b[1;33m,\u001b[0m\u001b[1;33m\u001b[0m\u001b[1;33m\u001b[0m\u001b[0m\n\u001b[0;32m      5\u001b[0m                                   '% Overall Passing Rate',]]\n",
      "\u001b[1;31mNameError\u001b[0m: name 'school_summary' is not defined"
     ]
    }
   ],
   "source": [
    "scores_size = school_summary.loc[:,['Average Math Score',\n",
    "                                  'Average Reading Score',\n",
    "                                  '% Passing Math',\n",
    "                                  '% Passing Reading',\n",
    "                                  '% Overall Passing Rate',]]\n",
    "\n",
    "scores_size['School Size']= pd.cut(school_summary['Total Students'],size_bins,labels=group_names)\n",
    "\n",
    "scores_size = scores_size.groupby('School Size').mean()\n",
    "scores_size.head()"
   ]
  },
  {
   "cell_type": "code",
   "execution_count": 43,
   "id": "05da1592",
   "metadata": {},
   "outputs": [
    {
     "ename": "NameError",
     "evalue": "name 'school_summary' is not defined",
     "output_type": "error",
     "traceback": [
      "\u001b[1;31m---------------------------------------------------------------------------\u001b[0m",
      "\u001b[1;31mNameError\u001b[0m                                 Traceback (most recent call last)",
      "\u001b[1;32m~\\AppData\\Local\\Temp\\ipykernel_13284\\106915288.py\u001b[0m in \u001b[0;36m<module>\u001b[1;34m\u001b[0m\n\u001b[1;32m----> 1\u001b[1;33m scores_type = school_summary[['School Type',\n\u001b[0m\u001b[0;32m      2\u001b[0m                               \u001b[1;34m'Average Math Score'\u001b[0m\u001b[1;33m,\u001b[0m\u001b[1;33m\u001b[0m\u001b[1;33m\u001b[0m\u001b[0m\n\u001b[0;32m      3\u001b[0m                               \u001b[1;34m'Average Reading Score'\u001b[0m\u001b[1;33m,\u001b[0m\u001b[1;33m\u001b[0m\u001b[1;33m\u001b[0m\u001b[0m\n\u001b[0;32m      4\u001b[0m                               \u001b[1;34m'% Passing Math'\u001b[0m\u001b[1;33m,\u001b[0m\u001b[1;33m\u001b[0m\u001b[1;33m\u001b[0m\u001b[0m\n\u001b[0;32m      5\u001b[0m                               '% Passing Reading','% Overall Passing Rate',]]\n",
      "\u001b[1;31mNameError\u001b[0m: name 'school_summary' is not defined"
     ]
    }
   ],
   "source": [
    "scores_type = school_summary[['School Type',\n",
    "                              'Average Math Score',\n",
    "                              'Average Reading Score',\n",
    "                              '% Passing Math',\n",
    "                              '% Passing Reading','% Overall Passing Rate',]]\n",
    "\n",
    "scores_type = scores_type.groupby('School Type').mean()\n",
    "scores_type.head()"
   ]
  }
 ],
 "metadata": {
  "kernelspec": {
   "display_name": "Python 3 (ipykernel)",
   "language": "python",
   "name": "python3"
  },
  "language_info": {
   "codemirror_mode": {
    "name": "ipython",
    "version": 3
   },
   "file_extension": ".py",
   "mimetype": "text/x-python",
   "name": "python",
   "nbconvert_exporter": "python",
   "pygments_lexer": "ipython3",
   "version": "3.9.13"
  }
 },
 "nbformat": 4,
 "nbformat_minor": 5
}
